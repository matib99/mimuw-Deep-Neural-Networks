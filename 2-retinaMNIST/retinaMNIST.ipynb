{
  "nbformat": 4,
  "nbformat_minor": 0,
  "metadata": {
    "colab": {
      "name": "solution.ipynb",
      "provenance": [],
      "collapsed_sections": [],
      "toc_visible": true
    },
    "kernelspec": {
      "name": "python388jvsc74a57bd06a3e34e222189c0756ab50c7e38e19053e0db080afbca923812458338f6ccb54",
      "display_name": "Python 3.8.8 64-bit (windows store)"
    },
    "language_info": {
      "name": "python",
      "version": "3.8.8"
    },
    "metadata": {
      "interpreter": {
        "hash": "6a3e34e222189c0756ab50c7e38e19053e0db080afbca923812458338f6ccb54"
      }
    },
    "widgets": {
      "application/vnd.jupyter.widget-state+json": {
        "15adcb1027fa42cba71f077f59aacb78": {
          "model_module": "@jupyter-widgets/controls",
          "model_name": "HBoxModel",
          "state": {
            "_view_name": "HBoxView",
            "_dom_classes": [],
            "_model_name": "HBoxModel",
            "_view_module": "@jupyter-widgets/controls",
            "_model_module_version": "1.5.0",
            "_view_count": null,
            "_view_module_version": "1.5.0",
            "box_style": "",
            "layout": "IPY_MODEL_5236e2988957477fbe95f694251a2841",
            "_model_module": "@jupyter-widgets/controls",
            "children": [
              "IPY_MODEL_3eafd44141624bd280bef2ca4cdba05e",
              "IPY_MODEL_c2447c587937467e8194f256646db0e7"
            ]
          }
        },
        "5236e2988957477fbe95f694251a2841": {
          "model_module": "@jupyter-widgets/base",
          "model_name": "LayoutModel",
          "state": {
            "_view_name": "LayoutView",
            "grid_template_rows": null,
            "right": null,
            "justify_content": null,
            "_view_module": "@jupyter-widgets/base",
            "overflow": null,
            "_model_module_version": "1.2.0",
            "_view_count": null,
            "flex_flow": null,
            "width": null,
            "min_width": null,
            "border": null,
            "align_items": null,
            "bottom": null,
            "_model_module": "@jupyter-widgets/base",
            "top": null,
            "grid_column": null,
            "overflow_y": null,
            "overflow_x": null,
            "grid_auto_flow": null,
            "grid_area": null,
            "grid_template_columns": null,
            "flex": null,
            "_model_name": "LayoutModel",
            "justify_items": null,
            "grid_row": null,
            "max_height": null,
            "align_content": null,
            "visibility": null,
            "align_self": null,
            "height": null,
            "min_height": null,
            "padding": null,
            "grid_auto_rows": null,
            "grid_gap": null,
            "max_width": null,
            "order": null,
            "_view_module_version": "1.2.0",
            "grid_template_areas": null,
            "object_position": null,
            "object_fit": null,
            "grid_auto_columns": null,
            "margin": null,
            "display": null,
            "left": null
          }
        },
        "3eafd44141624bd280bef2ca4cdba05e": {
          "model_module": "@jupyter-widgets/controls",
          "model_name": "FloatProgressModel",
          "state": {
            "_view_name": "ProgressView",
            "style": "IPY_MODEL_3998d25cca284d72b403e9050e0cc006",
            "_dom_classes": [],
            "description": "100%",
            "_model_name": "FloatProgressModel",
            "bar_style": "success",
            "max": 87306240,
            "_view_module": "@jupyter-widgets/controls",
            "_model_module_version": "1.5.0",
            "value": 87306240,
            "_view_count": null,
            "_view_module_version": "1.5.0",
            "orientation": "horizontal",
            "min": 0,
            "description_tooltip": null,
            "_model_module": "@jupyter-widgets/controls",
            "layout": "IPY_MODEL_4f8f00f3e4064d4db8b7e1126f050e94"
          }
        },
        "c2447c587937467e8194f256646db0e7": {
          "model_module": "@jupyter-widgets/controls",
          "model_name": "HTMLModel",
          "state": {
            "_view_name": "HTMLView",
            "style": "IPY_MODEL_25a324779bc14f519f8a5582cadb2808",
            "_dom_classes": [],
            "description": "",
            "_model_name": "HTMLModel",
            "placeholder": "​",
            "_view_module": "@jupyter-widgets/controls",
            "_model_module_version": "1.5.0",
            "value": " 83.3M/83.3M [00:01&lt;00:00, 64.2MB/s]",
            "_view_count": null,
            "_view_module_version": "1.5.0",
            "description_tooltip": null,
            "_model_module": "@jupyter-widgets/controls",
            "layout": "IPY_MODEL_4da26642addc4fe39b72b0e46e922e55"
          }
        },
        "3998d25cca284d72b403e9050e0cc006": {
          "model_module": "@jupyter-widgets/controls",
          "model_name": "ProgressStyleModel",
          "state": {
            "_view_name": "StyleView",
            "_model_name": "ProgressStyleModel",
            "description_width": "initial",
            "_view_module": "@jupyter-widgets/base",
            "_model_module_version": "1.5.0",
            "_view_count": null,
            "_view_module_version": "1.2.0",
            "bar_color": null,
            "_model_module": "@jupyter-widgets/controls"
          }
        },
        "4f8f00f3e4064d4db8b7e1126f050e94": {
          "model_module": "@jupyter-widgets/base",
          "model_name": "LayoutModel",
          "state": {
            "_view_name": "LayoutView",
            "grid_template_rows": null,
            "right": null,
            "justify_content": null,
            "_view_module": "@jupyter-widgets/base",
            "overflow": null,
            "_model_module_version": "1.2.0",
            "_view_count": null,
            "flex_flow": null,
            "width": null,
            "min_width": null,
            "border": null,
            "align_items": null,
            "bottom": null,
            "_model_module": "@jupyter-widgets/base",
            "top": null,
            "grid_column": null,
            "overflow_y": null,
            "overflow_x": null,
            "grid_auto_flow": null,
            "grid_area": null,
            "grid_template_columns": null,
            "flex": null,
            "_model_name": "LayoutModel",
            "justify_items": null,
            "grid_row": null,
            "max_height": null,
            "align_content": null,
            "visibility": null,
            "align_self": null,
            "height": null,
            "min_height": null,
            "padding": null,
            "grid_auto_rows": null,
            "grid_gap": null,
            "max_width": null,
            "order": null,
            "_view_module_version": "1.2.0",
            "grid_template_areas": null,
            "object_position": null,
            "object_fit": null,
            "grid_auto_columns": null,
            "margin": null,
            "display": null,
            "left": null
          }
        },
        "25a324779bc14f519f8a5582cadb2808": {
          "model_module": "@jupyter-widgets/controls",
          "model_name": "DescriptionStyleModel",
          "state": {
            "_view_name": "StyleView",
            "_model_name": "DescriptionStyleModel",
            "description_width": "",
            "_view_module": "@jupyter-widgets/base",
            "_model_module_version": "1.5.0",
            "_view_count": null,
            "_view_module_version": "1.2.0",
            "_model_module": "@jupyter-widgets/controls"
          }
        },
        "4da26642addc4fe39b72b0e46e922e55": {
          "model_module": "@jupyter-widgets/base",
          "model_name": "LayoutModel",
          "state": {
            "_view_name": "LayoutView",
            "grid_template_rows": null,
            "right": null,
            "justify_content": null,
            "_view_module": "@jupyter-widgets/base",
            "overflow": null,
            "_model_module_version": "1.2.0",
            "_view_count": null,
            "flex_flow": null,
            "width": null,
            "min_width": null,
            "border": null,
            "align_items": null,
            "bottom": null,
            "_model_module": "@jupyter-widgets/base",
            "top": null,
            "grid_column": null,
            "overflow_y": null,
            "overflow_x": null,
            "grid_auto_flow": null,
            "grid_area": null,
            "grid_template_columns": null,
            "flex": null,
            "_model_name": "LayoutModel",
            "justify_items": null,
            "grid_row": null,
            "max_height": null,
            "align_content": null,
            "visibility": null,
            "align_self": null,
            "height": null,
            "min_height": null,
            "padding": null,
            "grid_auto_rows": null,
            "grid_gap": null,
            "max_width": null,
            "order": null,
            "_view_module_version": "1.2.0",
            "grid_template_areas": null,
            "object_position": null,
            "object_fit": null,
            "grid_auto_columns": null,
            "margin": null,
            "display": null,
            "left": null
          }
        }
      }
    }
  },
  "cells": [
    {
      "cell_type": "markdown",
      "metadata": {
        "id": "6VBJpAMzglRo"
      },
      "source": [
        "# RetinaMNIST\n",
        "\n",
        "In this exercise your goal will be to solve an object detection training and prediction task using the anchor-based approach.\n",
        "**As a part of your solution you should provide a report summarizing your findings and results of the conducted experiments.**\n",
        "\n",
        "##TLDR; overview\n",
        "\n",
        "In this task one should:\n",
        "- determine the size of the feasible anchors for the object detection task posed in this Assignment,\n",
        "- build an object detection model using the variant of `RetinaNet`,\n",
        "- prepare a matching suite which will match predicted anchors with ground truth bounding boxes,\n",
        "- train an object detection model using a variant of `RetinaLoss`.\n",
        "\n",
        "Hints and comments:\n",
        "\n",
        "- Model architecture and loss are heavily inspired by [RetinaNet](https://arxiv.org/pdf/1708.02002.pdf) paper,\n",
        "- you can freely subclass and extend the interface of classes in this exercise,\n",
        "- be sure that you understand the concept of an anchor for object detection, covered during Lecture 8. There are many great tutorials and articles about it (e.g. [this](https://towardsdatascience.com/anchor-boxes-the-key-to-quality-object-detection-ddf9d612d4f9) one, note however that we are not implementing ignoring boxes for simplicity).\n",
        "\n",
        "### Data description\n",
        "\n",
        "In this task we will paste bounding boxes with digits randomly selected from `MNIST` dataset on a canvas of size `(128, 128)`. We assume that:\n",
        "\n",
        "- the two boxes from a canvas should have no more than `0.1` of `iou` overlap,\n",
        "- the digits are fully contained in canvas,\n",
        "- boxes are modeled using `MnistBox` class,\n",
        "- canvas is modeled using `MnistCanvas` class.\n",
        "\n",
        "Let us have a look at definition of these classes:"
      ]
    },
    {
      "cell_type": "code",
      "metadata": {
        "id": "L1rAdIiRq2G8"
      },
      "source": [
        "from typing import List\n",
        "from typing import Optional\n",
        "from typing import Tuple\n",
        "\n",
        "import matplotlib.pyplot as plt\n",
        "import matplotlib.patches as patches\n",
        "import numpy as np\n",
        "import torch\n",
        "\n",
        "DEVICE = torch.device('cuda' if torch.cuda.is_available() else 'cpu')\n",
        "\n",
        "class MnistBox:\n",
        "\n",
        "    def __init__(\n",
        "        self,\n",
        "        x_min: int,\n",
        "        y_min: int,\n",
        "        x_max: int,\n",
        "        y_max: int,\n",
        "        class_nb: Optional[int] = None,\n",
        "    ):\n",
        "        self.x_min = x_min\n",
        "        self.x_max = x_max\n",
        "        self.y_min = y_min\n",
        "        self.y_max = y_max\n",
        "        self.class_nb = class_nb\n",
        "    \n",
        "    @property\n",
        "    def x_diff(self):\n",
        "        return self.x_max - self.x_min\n",
        "    \n",
        "    @property\n",
        "    def y_diff(self):\n",
        "        return self.y_max - self.y_min\n",
        "\n",
        "    def __repr__(self):\n",
        "        return f'Mnist Box: x_min = {self.x_min},' +\\\n",
        "               f' x_max = {self.x_max}, y_min = {self.y_min},' +\\\n",
        "               f' y_max = {self.y_max}. Class = {self.class_nb}'\n",
        "\n",
        "    def plot_on_ax(self, ax, color: Optional[str] = 'r'):\n",
        "        ax.add_patch(\n",
        "            patches.Rectangle(\n",
        "                (self.y_min, self.x_min),\n",
        "                 self.y_diff,\n",
        "                 self.x_diff,\n",
        "                 linewidth=1,\n",
        "                 edgecolor=color,\n",
        "                 facecolor='none',\n",
        "            )\n",
        "        )\n",
        "        ax.text(\n",
        "            self.y_min,\n",
        "            self.x_min,\n",
        "            str(self.class_nb),\n",
        "            bbox={\"facecolor\": color, \"alpha\": 0.4},\n",
        "            clip_box=ax.clipbox,\n",
        "            clip_on=True,\n",
        "        )\n",
        "\n",
        "    @property\n",
        "    def area(self):\n",
        "        return max((self.x_max - self.x_min), 0) * max((self.y_max - self.y_min), 0)\n",
        "\n",
        "    def iou_with(self, other_box: \"MnistBox\"):\n",
        "        aux_box = MnistBox(\n",
        "            x_min=max(self.x_min, other_box.x_min),\n",
        "            x_max=min(self.x_max, other_box.x_max),\n",
        "            y_min=max(self.y_min, other_box.y_min),\n",
        "            y_max=min(self.y_max, other_box.y_max),\n",
        "        ) \n",
        "        return aux_box.area / (self.area + other_box.area - aux_box.area)\n",
        "\n",
        "\n",
        "class MnistCanvas:\n",
        "\n",
        "    def __init__(\n",
        "        self,\n",
        "        image: np.ndarray,\n",
        "        boxes: List[MnistBox],\n",
        "    ):\n",
        "        self.image = image\n",
        "        self.boxes = boxes\n",
        "\n",
        "    def add_digit(\n",
        "        self,\n",
        "        digit: np.ndarray,\n",
        "        class_nb: int,\n",
        "        x_min: int,\n",
        "        y_min: int,\n",
        "        iou_threshold=0.1,\n",
        "    ) -> bool:\n",
        "        \"\"\"\n",
        "        Add a digit to an image if it does not overlap with existing boxes\n",
        "        above iou_threshold.\n",
        "        \"\"\"\n",
        "        image_x, image_y = digit.shape\n",
        "        if x_min >= self.image.shape[0] and y_min >= self.image.shape[1]:\n",
        "            raise ValueError('Wrong initial corner box')\n",
        "        new_box_x_min = x_min\n",
        "        new_box_y_min = y_min\n",
        "        new_box_x_max = min(x_min + image_x, self.image.shape[0])\n",
        "        new_box_y_max = min(y_min + image_y, self.image.shape[1])\n",
        "        new_box = MnistBox(\n",
        "            x_min=new_box_x_min,\n",
        "            x_max=new_box_x_max,\n",
        "            y_min=new_box_y_min,\n",
        "            y_max=new_box_y_max,\n",
        "           class_nb=class_nb,\n",
        "        )\n",
        "        old_background = self.image[\n",
        "            new_box_x_min:new_box_x_max,\n",
        "            new_box_y_min:new_box_y_max\n",
        "        ]\n",
        "        for box in self.boxes:\n",
        "            if new_box.iou_with(box) > iou_threshold:\n",
        "                return False\n",
        "        self.image[\n",
        "            new_box_x_min:new_box_x_max,\n",
        "            new_box_y_min:new_box_y_max\n",
        "        ] = np.maximum(old_background, digit)\n",
        "        self.boxes.append(\n",
        "            new_box\n",
        "        ) \n",
        "        return True\n",
        "        \n",
        "    def get_torch_tensor(self) -> torch.Tensor:\n",
        "        np_image = self.image.astype('float32')\n",
        "        np_image = np_image.reshape(\n",
        "            (1, 1, self.image.shape[0], self.image.shape[1])\n",
        "        )\n",
        "        return torch.from_numpy(np_image).to(DEVICE)\n",
        "\n",
        "    @classmethod\n",
        "    def get_empty_of_size(cls, size: Tuple[int, int]):\n",
        "        return cls(\n",
        "            image=np.zeros(size),\n",
        "            boxes=[],\n",
        "        )\n",
        "\n",
        "    def plot(self, boxes: Optional[List[MnistBox]] = None):\n",
        "        fig, ax = plt.subplots()\n",
        "        ax.imshow(self.image)\n",
        "        boxes = boxes or self.boxes\n",
        "        for box in boxes:\n",
        "            box.plot_on_ax(ax)\n",
        "        plt.show()"
      ],
      "execution_count": 2,
      "outputs": []
    },
    {
      "cell_type": "markdown",
      "metadata": {
        "id": "NWMxgsgFtlze"
      },
      "source": [
        "Each canvas has 3-6 boxes with randomly selected digits. The digits for training data are from first 10K examples from `MNIST` train data. The digits for test data are selected from first 1K examples from `MNIST` test data. The Dataset is generated using the following functions:"
      ]
    },
    {
      "cell_type": "code",
      "metadata": {
        "id": "HezSZXw4z-cx",
        "colab": {
          "base_uri": "https://localhost:8080/"
        },
        "outputId": "bacfc610-a708-4d0b-de7a-7082c2c5e8d6"
      },
      "source": [
        "from keras.datasets import mnist\n",
        "import numpy as np\n",
        "\n",
        "\n",
        "mnist_data = mnist.load_data()\n",
        "(mnist_x_train, mnist_y_train), (mnist_x_test, mnist_y_test) = mnist_data\n",
        "\n",
        "\n",
        "def crop_insignificant_values(digit:np.ndarray, threshold=0.1):\n",
        "    bool_digit = digit > threshold\n",
        "    x_range = bool_digit.max(axis=0)\n",
        "    y_range = bool_digit.max(axis=1)\n",
        "    start_x = (x_range.cumsum() == 0).sum()\n",
        "    end_x = (x_range[::-1].cumsum() == 0).sum()\n",
        "    start_y = (y_range.cumsum() == 0).sum()\n",
        "    end_y = (y_range[::-1].cumsum() == 0).sum()\n",
        "    return digit[start_y:-end_y - 1, start_x:-end_x - 1]\n",
        "\n",
        "\n",
        "TRAIN_DIGITS = [\n",
        "    crop_insignificant_values(digit) / 255.0\n",
        "    for digit_index, digit in enumerate(mnist_x_train[:10000])\n",
        "]\n",
        "TRAIN_CLASSES = mnist_y_train[:10000]\n",
        "\n",
        "TEST_DIGITS = [\n",
        "    crop_insignificant_values(digit) / 255.0\n",
        "    for digit_index, digit in enumerate(mnist_x_test[:1000])\n",
        "]\n",
        "TEST_CLASSES = mnist_y_test[:1000]\n",
        "\n",
        "\n",
        "def get_random_canvas(\n",
        "    digits: Optional[List[np.ndarray]] = None,\n",
        "    classes: Optional[List[int]] = None,\n",
        "    nb_of_digits: Optional[int] = None,\n",
        "    ):\n",
        "    digits = digits if digits is not None else TRAIN_DIGITS\n",
        "    classes = classes if classes is not None else TRAIN_CLASSES\n",
        "    nb_of_digits = nb_of_digits if nb_of_digits is not None else np.random.randint(low=3, high=6 + 1)\n",
        "\n",
        "    new_canvas = MnistCanvas.get_empty_of_size(size=(128, 128))\n",
        "    attempts_done = 0\n",
        "    while attempts_done < nb_of_digits:\n",
        "        current_digit_index = np.random.randint(len(digits))\n",
        "        current_digit = digits[current_digit_index]\n",
        "        random_x_min = np.random.randint(0, 128 - current_digit.shape[0] - 3)\n",
        "        random_y_min = np.random.randint(0, 128 - current_digit.shape[1] - 3)\n",
        "        if new_canvas.add_digit(\n",
        "            digit=current_digit,\n",
        "            x_min=random_x_min,\n",
        "            y_min=random_y_min,\n",
        "            class_nb=classes[current_digit_index],\n",
        "        ):\n",
        "            attempts_done += 1\n",
        "    return new_canvas"
      ],
      "execution_count": 3,
      "outputs": [
        {
          "output_type": "stream",
          "text": [
            "Downloading data from https://storage.googleapis.com/tensorflow/tf-keras-datasets/mnist.npz\n",
            "11493376/11490434 [==============================] - 0s 0us/step\n"
          ],
          "name": "stdout"
        }
      ]
    },
    {
      "cell_type": "markdown",
      "metadata": {
        "id": "5i2OjUEC7eaC"
      },
      "source": [
        "Let us have a look at example canvas:"
      ]
    },
    {
      "cell_type": "code",
      "metadata": {
        "id": "OsLpINOtvhd8",
        "colab": {
          "base_uri": "https://localhost:8080/",
          "height": 268
        },
        "outputId": "da8cd433-d79c-4b1f-eff3-c233000af156"
      },
      "source": [
        "mnist_canvas = get_random_canvas()\n",
        "mnist_canvas.plot()"
      ],
      "execution_count": 4,
      "outputs": [
        {
          "output_type": "display_data",
          "data": {
            "image/png": "[encoded data removed]",
            "text/plain": [
              "<Figure size 432x288 with 1 Axes>"
            ]
          },
          "metadata": {
            "tags": [],
            "needs_background": "light"
          }
        }
      ]
    },
    {
      "cell_type": "markdown",
      "metadata": {
        "id": "4QkpHGiOCnng"
      },
      "source": [
        "Now - let us generate test canvas:"
      ]
    },
    {
      "cell_type": "code",
      "metadata": {
        "id": "PV410KSYC-eT",
        "colab": {
          "base_uri": "https://localhost:8080/",
          "height": 268
        },
        "outputId": "6e9a1e76-c52c-4a03-c265-0cc41e579f20"
      },
      "source": [
        "TEST_CANVAS_SIZE = 256\n",
        "TEST_SEED = 42 # DO NOT CHANGE THIS LINE.\n",
        "\n",
        "np.random.seed(TEST_SEED)\n",
        "\n",
        "TEST_CANVAS = [\n",
        "    get_random_canvas(\n",
        "        digits=TEST_DIGITS,\n",
        "        classes=TEST_CLASSES,\n",
        "    )\n",
        "    for _ in range(TEST_CANVAS_SIZE)\n",
        "]\n",
        "\n",
        "TEST_CANVAS[0].plot()"
      ],
      "execution_count": 5,
      "outputs": [
        {
          "output_type": "display_data",
          "data": {
            "image/png": "[encoded data removed]",
            "text/plain": [
              "<Figure size 432x288 with 1 Axes>"
            ]
          },
          "metadata": {
            "tags": [],
            "needs_background": "light"
          }
        }
      ]
    },
    {
      "cell_type": "markdown",
      "metadata": {
        "id": "OgU2bKyJ3pVh"
      },
      "source": [
        "For training one can either:\n",
        "- generate `TRAIN_CANVAS` similarly to `TEST_CANVAS` creation,\n",
        "- use the fact that `get_random_canvas()` generates a random train canvas and generate training data on-the-fly."
      ]
    },
    {
      "cell_type": "markdown",
      "metadata": {
        "id": "Ri3Jh7GzjZ4W"
      },
      "source": [
        "### Anchor size analysis (0.5pts)\n",
        "\n",
        "For this task:\n",
        "1. Sample at least 1000 random canvas.\n",
        "2. Analyze the sizes (heights and widths) of the `MnistBox`es from this canvas.\n",
        "3. Select the anchor sizes which will match the problem the best.\n",
        "\n",
        "Selected anchor sizes should be stored in a sensible manner in `ANCHOR_SIZES` list."
      ]
    },
    {
      "cell_type": "code",
      "metadata": {
        "id": "KWLTAoFwkEnu",
        "colab": {
          "base_uri": "https://localhost:8080/",
          "height": 333
        },
        "outputId": "2dd85292-ec3a-49ce-a42e-02fd7a1bcdfb"
      },
      "source": [
        "n_of_canvases = 1000\n",
        "random_canvases = [\n",
        "    get_random_canvas(\n",
        "        digits=TRAIN_DIGITS,\n",
        "        classes=TRAIN_CLASSES,\n",
        "    )\n",
        "    for _ in range(n_of_canvases)]\n",
        "boxes = [c.boxes for c in random_canvases]\n",
        "flat_boxes = [b for bs in boxes for b in bs]\n",
        "box_sizes = [(b.x_diff, b.y_diff) for b in flat_boxes]\n",
        "max_x = max([x for (x,y) in box_sizes])\n",
        "max_y = max([y for (x,y) in box_sizes])\n",
        "\n",
        "print(\"max  x :\", max_x)\n",
        "print(\"max  y :\", max_y)\n",
        "print(\"mean x :\", np.mean([x for (x,y) in box_sizes]))\n",
        "print(\"mean y :\", np.mean([y for (x,y) in box_sizes]))\n",
        "\n",
        "sizes_count = np.zeros((max_x+1, max_y+1))\n",
        "for (x,y) in box_sizes:\n",
        "    sizes_count[x,y] = sizes_count[x,y] + 1\n",
        "\n",
        "\n",
        "\n",
        "plt.imshow(sizes_count, cmap='hot', interpolation='nearest')\n",
        "\n",
        "plt.show()\n",
        "\n",
        "# we can see that the max x and max y are 19, and that at least one of dimentions is maximal.\n",
        "# we also see that the x tends is ussualy bigger than y dimention (probably counterintuitively x is height and y is width)\n",
        "\n",
        "# i checked it at n = 10k, but the results are pretty much the same\n",
        "\n",
        "ANCHOR_SIZES = [(19, 9), (19, 13), (19, 15), (19, 17), (19, 19), (17, 19)]"
      ],
      "execution_count": 6,
      "outputs": [
        {
          "output_type": "stream",
          "text": [
            "max  x : 19\n",
            "max  y : 19\n",
            "mean x : 18.712151616499444\n",
            "mean y : 14.80891861761427\n"
          ],
          "name": "stdout"
        },
        {
          "output_type": "display_data",
          "data": {
            "image/png": "[encoded data removed]",
            "text/plain": [
              "<Figure size 432x288 with 1 Axes>"
            ]
          },
          "metadata": {
            "tags": [],
            "needs_background": "light"
          }
        }
      ]
    },
    {
      "cell_type": "markdown",
      "metadata": {
        "id": "_GpJZUkDGJSi"
      },
      "source": [
        "### Model building (1pt)\n",
        "\n",
        "\n",
        "One should build a model for digit detection in $\\texttt{pytorch}$. Model should consist of:\n",
        "\n",
        "#### $\\texttt{backbone}$:\n",
        "\n",
        "Backbone model should accept a `MnistCanvas` instance and output a tensor with shape $(1, \\frac{128}{2^k}, \\frac{128}{2^k}, filters)$ where $k \\in {2, 3, 4}$ and $filters$ should be selected by student. We will later relate to selected $k$ as a stride. You can use a pretrained backbone.\n",
        "\n",
        "#### $\\texttt{anchors}$:\n",
        "\n",
        "List of `MnistBox`es where each box:\n",
        "\n",
        "- should have size of one of selected `ANCHOR_SIZES`,\n",
        "- should have center coordinates on canvas of type $\\left(\\left(m + \\frac{1}{2}\\right) * 2^k, \\left(n + \\frac{1}{2}\\right) * 2^k\\right)$  for $m, n \\in \\{0, 1, \\dots, \\frac{128}{2^k} - 1\\}$.\n",
        "\n",
        "`MnistBox` with anchor should have an attribute `class_nb` set to `None`.\n",
        "\n",
        "#### $\\texttt{classificationHead}$:\n",
        "\n",
        "$\\texttt{classificationHead}$ should accept backbone output as an input and output `classification_output` tensor of shape $(len(\\texttt{anchors)}, 10)$ where the value $ch_{i, j}$ which is the value of i-th row and j-th column has a property that $sigmoid(ch_{i, j})$ is a probability that i-th anchor from $\\texttt{anchors}$ overlaps significantly with some canvas `GTBox: MnistBox` with a digit of class $j$(ground truth box).\n",
        "\n",
        "#### $\\texttt{boxRegressionHead}$:\n",
        "\n",
        "$\\texttt{boxRegressionHead}$ should accept backbone output as an input and output `box_regression_output` tensor of shape $(len(\\texttt{anchors)}, 4)$ where the value $br_{i}$ which is the value of i-th row has a property that if there is a ground truth digit box $\\texttt{GTBox}$ - significantly overlapping with $\\texttt{anchor}[i]$ then the following properties hold:\n",
        "\n",
        "$$\\texttt{GTBox.x_min} = \\texttt{anchor[i].x_min} + br_{i, 0},$$ \n",
        "$$\\texttt{GTBox.x_max} = \\texttt{anchor[i].x_max} + br_{i, 1},$$ \n",
        "$$\\texttt{GTBox.y_min} = \\texttt{anchor[i].y_min} + br_{i, 2},$$ \n",
        "$$\\texttt{GTBox.y_max} = \\texttt{anchor[i].y_max} + br_{i, 3}.$$ \n",
        "\n",
        "### Model output\n",
        "\n",
        "Model should output `DigitDetectionModelOutput` class defined below.\n",
        "\n",
        "#### Comment on _significant overlap_:\n",
        "\n",
        "The meaning of significant overlap will be described later."
      ]
    },
    {
      "cell_type": "code",
      "metadata": {
        "colab": {
          "base_uri": "https://localhost:8080/",
          "height": 83,
          "referenced_widgets": [
            "15adcb1027fa42cba71f077f59aacb78",
            "5236e2988957477fbe95f694251a2841",
            "3eafd44141624bd280bef2ca4cdba05e",
            "c2447c587937467e8194f256646db0e7",
            "3998d25cca284d72b403e9050e0cc006",
            "4f8f00f3e4064d4db8b7e1126f050e94",
            "25a324779bc14f519f8a5582cadb2808",
            "4da26642addc4fe39b72b0e46e922e55"
          ]
        },
        "id": "TT4w_2DQzue7",
        "outputId": "ff824a10-0430-48ce-ce15-3fbb5da10749"
      },
      "source": [
        "import torchvision.models as models\n",
        "\n",
        "resnet = models.resnet34(pretrained=True)\n",
        "\n",
        "def get_backbone(k=3):\n",
        "    assert(2 <= k <= 4)\n",
        "    return torch.nn.Sequential(*list(resnet.children())[:-(2 + 5 - k)]).to(DEVICE)\n",
        "my_model = get_backbone(3)"
      ],
      "execution_count": 7,
      "outputs": [
        {
          "output_type": "stream",
          "text": [
            "Downloading: \"https://download.pytorch.org/models/resnet34-333f7ec4.pth\" to /root/.cache/torch/hub/checkpoints/resnet34-333f7ec4.pth\n"
          ],
          "name": "stderr"
        },
        {
          "output_type": "display_data",
          "data": {
            "application/vnd.jupyter.widget-view+json": {
              "model_id": "15adcb1027fa42cba71f077f59aacb78",
              "version_minor": 0,
              "version_major": 2
            },
            "text/plain": [
              "HBox(children=(FloatProgress(value=0.0, max=87306240.0), HTML(value='')))"
            ]
          },
          "metadata": {
            "tags": []
          }
        },
        {
          "output_type": "stream",
          "text": [
            "\n"
          ],
          "name": "stdout"
        }
      ]
    },
    {
      "cell_type": "code",
      "metadata": {
        "colab": {
          "base_uri": "https://localhost:8080/"
        },
        "id": "YasIuTOKzue7",
        "outputId": "1e8a295e-6510-4cc3-e051-4e485fd1038f"
      },
      "source": [
        "print(my_model)  \n",
        "x = random_canvases[0].get_torch_tensor().repeat(1,3,1,1)\n",
        "y = my_model(x)\n",
        "y.shape\n"
      ],
      "execution_count": 8,
      "outputs": [
        {
          "output_type": "stream",
          "text": [
            "Sequential(\n",
            "  (0): Conv2d(3, 64, kernel_size=(7, 7), stride=(2, 2), padding=(3, 3), bias=False)\n",
            "  (1): BatchNorm2d(64, eps=1e-05, momentum=0.1, affine=True, track_running_stats=True)\n",
            "  (2): ReLU(inplace=True)\n",
            "  (3): MaxPool2d(kernel_size=3, stride=2, padding=1, dilation=1, ceil_mode=False)\n",
            "  (4): Sequential(\n",
            "    (0): BasicBlock(\n",
            "      (conv1): Conv2d(64, 64, kernel_size=(3, 3), stride=(1, 1), padding=(1, 1), bias=False)\n",
            "      (bn1): BatchNorm2d(64, eps=1e-05, momentum=0.1, affine=True, track_running_stats=True)\n",
            "      (relu): ReLU(inplace=True)\n",
            "      (conv2): Conv2d(64, 64, kernel_size=(3, 3), stride=(1, 1), padding=(1, 1), bias=False)\n",
            "      (bn2): BatchNorm2d(64, eps=1e-05, momentum=0.1, affine=True, track_running_stats=True)\n",
            "    )\n",
            "    (1): BasicBlock(\n",
            "      (conv1): Conv2d(64, 64, kernel_size=(3, 3), stride=(1, 1), padding=(1, 1), bias=False)\n",
            "      (bn1): BatchNorm2d(64, eps=1e-05, momentum=0.1, affine=True, track_running_stats=True)\n",
            "      (relu): ReLU(inplace=True)\n",
            "      (conv2): Conv2d(64, 64, kernel_size=(3, 3), stride=(1, 1), padding=(1, 1), bias=False)\n",
            "      (bn2): BatchNorm2d(64, eps=1e-05, momentum=0.1, affine=True, track_running_stats=True)\n",
            "    )\n",
            "    (2): BasicBlock(\n",
            "      (conv1): Conv2d(64, 64, kernel_size=(3, 3), stride=(1, 1), padding=(1, 1), bias=False)\n",
            "      (bn1): BatchNorm2d(64, eps=1e-05, momentum=0.1, affine=True, track_running_stats=True)\n",
            "      (relu): ReLU(inplace=True)\n",
            "      (conv2): Conv2d(64, 64, kernel_size=(3, 3), stride=(1, 1), padding=(1, 1), bias=False)\n",
            "      (bn2): BatchNorm2d(64, eps=1e-05, momentum=0.1, affine=True, track_running_stats=True)\n",
            "    )\n",
            "  )\n",
            "  (5): Sequential(\n",
            "    (0): BasicBlock(\n",
            "      (conv1): Conv2d(64, 128, kernel_size=(3, 3), stride=(2, 2), padding=(1, 1), bias=False)\n",
            "      (bn1): BatchNorm2d(128, eps=1e-05, momentum=0.1, affine=True, track_running_stats=True)\n",
            "      (relu): ReLU(inplace=True)\n",
            "      (conv2): Conv2d(128, 128, kernel_size=(3, 3), stride=(1, 1), padding=(1, 1), bias=False)\n",
            "      (bn2): BatchNorm2d(128, eps=1e-05, momentum=0.1, affine=True, track_running_stats=True)\n",
            "      (downsample): Sequential(\n",
            "        (0): Conv2d(64, 128, kernel_size=(1, 1), stride=(2, 2), bias=False)\n",
            "        (1): BatchNorm2d(128, eps=1e-05, momentum=0.1, affine=True, track_running_stats=True)\n",
            "      )\n",
            "    )\n",
            "    (1): BasicBlock(\n",
            "      (conv1): Conv2d(128, 128, kernel_size=(3, 3), stride=(1, 1), padding=(1, 1), bias=False)\n",
            "      (bn1): BatchNorm2d(128, eps=1e-05, momentum=0.1, affine=True, track_running_stats=True)\n",
            "      (relu): ReLU(inplace=True)\n",
            "      (conv2): Conv2d(128, 128, kernel_size=(3, 3), stride=(1, 1), padding=(1, 1), bias=False)\n",
            "      (bn2): BatchNorm2d(128, eps=1e-05, momentum=0.1, affine=True, track_running_stats=True)\n",
            "    )\n",
            "    (2): BasicBlock(\n",
            "      (conv1): Conv2d(128, 128, kernel_size=(3, 3), stride=(1, 1), padding=(1, 1), bias=False)\n",
            "      (bn1): BatchNorm2d(128, eps=1e-05, momentum=0.1, affine=True, track_running_stats=True)\n",
            "      (relu): ReLU(inplace=True)\n",
            "      (conv2): Conv2d(128, 128, kernel_size=(3, 3), stride=(1, 1), padding=(1, 1), bias=False)\n",
            "      (bn2): BatchNorm2d(128, eps=1e-05, momentum=0.1, affine=True, track_running_stats=True)\n",
            "    )\n",
            "    (3): BasicBlock(\n",
            "      (conv1): Conv2d(128, 128, kernel_size=(3, 3), stride=(1, 1), padding=(1, 1), bias=False)\n",
            "      (bn1): BatchNorm2d(128, eps=1e-05, momentum=0.1, affine=True, track_running_stats=True)\n",
            "      (relu): ReLU(inplace=True)\n",
            "      (conv2): Conv2d(128, 128, kernel_size=(3, 3), stride=(1, 1), padding=(1, 1), bias=False)\n",
            "      (bn2): BatchNorm2d(128, eps=1e-05, momentum=0.1, affine=True, track_running_stats=True)\n",
            "    )\n",
            "  )\n",
            ")\n"
          ],
          "name": "stdout"
        },
        {
          "output_type": "execute_result",
          "data": {
            "text/plain": [
              "torch.Size([1, 128, 16, 16])"
            ]
          },
          "metadata": {
            "tags": []
          },
          "execution_count": 8
        }
      ]
    },
    {
      "cell_type": "code",
      "metadata": {
        "id": "kXco8riNGHhl"
      },
      "source": [
        "import itertools\n",
        "import torchvision.models as models\n",
        "import torchvision \n",
        "\n",
        "class DigitDetectionModelOutput:\n",
        "\n",
        "    def __init__(\n",
        "        self,\n",
        "        anchors: List[MnistBox],\n",
        "        classification_output: torch.Tensor,\n",
        "        box_regression_output: torch.Tensor,\n",
        "    ):\n",
        "        self.anchors = anchors\n",
        "        self.classification_output = classification_output\n",
        "        self.box_regression_output = box_regression_output\n",
        "\n",
        "\n",
        "class MyBackbone(torch.nn.Module):\n",
        "    def __init__(self):\n",
        "        super().__init__()\n",
        "\n",
        "        self.layer1 = torch.nn.Sequential(\n",
        "            torch.nn.Conv2d(3, 32, kernel_size=3, padding=1),\n",
        "            torch.nn.LeakyReLU()\n",
        "            )\n",
        "        self.layer2 = torch.nn.Sequential(\n",
        "            torch.nn.Conv2d(32, 64, kernel_size=3, padding=1),\n",
        "            torch.nn.LeakyReLU(),\n",
        "            torch.nn.MaxPool2d(2) # 64 x 64\n",
        "            )\n",
        "        self.layer3 = torch.nn.Sequential(\n",
        "            torch.nn.Conv2d(64, 128, kernel_size=3, padding=1),\n",
        "            torch.nn.LeakyReLU(),\n",
        "            torch.nn.MaxPool2d(2) # 32 x 32\n",
        "            )\n",
        "        self.layer4 = torch.nn.Sequential(\n",
        "            torch.nn.Conv2d(128, 128, kernel_size=3, padding=1),\n",
        "            torch.nn.LeakyReLU(),\n",
        "            torch.nn.MaxPool2d(2) # 16 x 16\n",
        "            )\n",
        "        \n",
        "    def forward(self, x):\n",
        "        x = self.layer1(x)\n",
        "        x = self.layer2(x)\n",
        "        x = self.layer3(x)\n",
        "        x = self.layer4(x)\n",
        "\n",
        "        return x\n",
        "\n",
        "\n",
        "class ClassificationHead(torch.nn.Module):\n",
        "    def __init__(self, anchors_per_tile, filters):\n",
        "        super().__init__()\n",
        "     \n",
        "        self.anchors_per_tile = anchors_per_tile\n",
        "        self.layer1 = torch.nn.Sequential(\n",
        "            torch.nn.Conv2d(filters, 128, kernel_size=3, padding=1),\n",
        "            torch.nn.LeakyReLU()\n",
        "            )\n",
        "        self.layer2 = torch.nn.Sequential(\n",
        "            torch.nn.Conv2d(128, 256, kernel_size=3, padding=1),\n",
        "            torch.nn.LeakyReLU(),\n",
        "            )\n",
        "        self.layer3 = torch.nn.Sequential(\n",
        "            torch.nn.Conv2d(256, anchors_per_tile * 10, kernel_size=3, padding=1),\n",
        "            )\n",
        "    def forward(self, x):\n",
        "        x = self.layer1(x)\n",
        "        x = self.layer2(x)\n",
        "        x = self.layer3(x)\n",
        "\n",
        "        x = x.swapaxes(1,2).swapaxes(2,3).reshape((-1, 10))\n",
        "\n",
        "        return x\n",
        "\n",
        "class BoxRegressionHead(torch.nn.Module):\n",
        "    def __init__(self, anchors_per_tile, filters):\n",
        "        super().__init__()\n",
        "\n",
        "        self.anchors_per_tile = anchors_per_tile\n",
        "        self.layer1 = torch.nn.Sequential(\n",
        "            torch.nn.Conv2d(filters, 128, kernel_size=3, padding=1),\n",
        "            torch.nn.LeakyReLU()\n",
        "            )\n",
        "        self.layer2 = torch.nn.Sequential(\n",
        "            torch.nn.Conv2d(128, 256, kernel_size=3, padding=1),\n",
        "            torch.nn.LeakyReLU(),\n",
        "            )\n",
        "        self.layer3 = torch.nn.Sequential(\n",
        "            torch.nn.Conv2d(256, anchors_per_tile * 4, kernel_size=3, padding=1),\n",
        "            )\n",
        "    def forward(self, x):\n",
        "        x = self.layer1(x)\n",
        "        x = self.layer2(x)\n",
        "        x = self.layer3(x)\n",
        "\n",
        "        x = x.swapaxes(1,2).swapaxes(2,3).reshape((-1, 4))\n",
        "\n",
        "        return x\n",
        "\n",
        "class DigitDetectionModel(torch.nn.Module):\n",
        "    def __init__(\n",
        "        self,\n",
        "        k,\n",
        "        filters=128\n",
        "    ):\n",
        "         super().__init__()\n",
        "         self.k = k\n",
        "         self.grid_cell_size = 128 // 2**k\n",
        "         self.grid_size = 2**k \n",
        "         self.anchors = [\n",
        "             MnistBox(\n",
        "                 (m + 0.5) * self.grid_size - x_diff // 2,\n",
        "                 (n + 0.5) * self.grid_size - y_diff // 2,\n",
        "                 (m + 0.5) * self.grid_size + x_diff - (x_diff // 2),\n",
        "                 (n + 0.5) * self.grid_size + y_diff - (y_diff // 2),\n",
        "             )\n",
        "             for (m, n, (x_diff, y_diff)) in itertools.product(\n",
        "                 range(self.grid_cell_size),\n",
        "                 range(self.grid_cell_size),\n",
        "                 ANCHOR_SIZES)\n",
        "         ]\n",
        "        #  self.backbone = get_backbone(k).to(DEVICE)\n",
        "         self.backbone = MyBackbone().to(DEVICE)\n",
        "         self.classification_head = ClassificationHead(len(ANCHOR_SIZES), filters).to(DEVICE)\n",
        "         self.box_regression_head = BoxRegressionHead(len(ANCHOR_SIZES), filters).to(DEVICE)\n",
        "\n",
        "    def forward(self, x: MnistCanvas) -> DigitDetectionModelOutput:\n",
        "        # Note that this is defined for a single MnistCanvas\n",
        "        input = x.get_torch_tensor().repeat(1,3,1,1)\n",
        "        backbone_output = self.backbone(input)\n",
        "        self.backbone_output = backbone_output\n",
        "        classification_output = self.classification_head(backbone_output)\n",
        "        box_regression_output = self.box_regression_head(backbone_output)\n",
        "        return DigitDetectionModelOutput(self.anchors, classification_output, box_regression_output)"
      ],
      "execution_count": 10,
      "outputs": []
    },
    {
      "cell_type": "markdown",
      "metadata": {
        "id": "hnZu3sdhTfTJ"
      },
      "source": [
        "### Significant overlap (1pt)\n",
        "\n",
        "In order to manage definition of a _significant overlap_ student should implement the `TargetDecoder`. `TargetDecoder` have two methods:\n",
        "\n",
        "### - `get_targets`\n",
        "\n",
        "This method accepts a `canvas: MnistCanvas` with boxes later refered to as `gt_boxes: List[MnistBox]`, `anchors: List[MnistBox]` of model anchors and `iou_threshold: float`. Its output should be `DigitDetectionModelTarget` instance with the following attributes:\n",
        "\n",
        "- `classification_target` - a tensor of shape $(len(anchors), 10)$,\n",
        "- `box_regression_target` - a tensor of shape $(len(anchors), 4)$,\n",
        "- `matched_anchors` - a list of indices anchors matched (see definition below).\n",
        "\n",
        "The output attributes should be computed in a following manner: \n",
        "\n",
        "1. All of the outputs of the output tensors should be `0` except the case presented in the point 2.\n",
        "1. if for anchor `anchors[i]` there exist at least one `gt_box` from `gt_boxes` with `iou` overlap greater than `iou_threshold` then let `gt_best` be the one with the greatest `iou` overlap (ties resolved randomly). Then `box_regression_target` should encode the bounding box correction, namely:\n",
        "\n",
        "$$\\texttt{box_regression_target}[i, 0] = \\texttt{gt_best.x_min} - \\texttt{anchor[i].x_min}$$ \n",
        "$$\\texttt{box_regression_target}[i, 1] = \\texttt{gt_best.x_max} - \\texttt{anchor[i].x_max}$$ \n",
        "$$\\texttt{box_regression_target}[i, 2] = \\texttt{gt_best.y_min} - \\texttt{anchor[i].y_min}$$ \n",
        "$$\\texttt{box_regression_target}[i, 3] = \\texttt{gt_best.y_max} - \\texttt{anchor[i].y_max}$$,\n",
        "\n",
        "and `classification_target` should encode the class of matched `gt_best`, namely:\n",
        "\n",
        "$$\\texttt{class_targets}[i, \\texttt{gt_best.class_nb}] = 1.$$\n",
        "\n",
        "Moreover - the `anchor[i]` is considered to be _matched_ with some ground truth box so index `i` should be in `matched_anchors` list.\n",
        "\n",
        "The output should be packed into `DigitDetectionModelTarget` class defined below.\n",
        "\n",
        "_Hint_: note that there might be cases when no anchor is matched. What does it mean about your anchors?\n",
        "\n",
        "### - `get_predictions`\n",
        "\n",
        "This method should decode the `DigitDetectionModelOutput` to set of final boxes\n",
        "predictions. We leave the way of selecting the predictions to students.\n",
        "\n",
        "_HINT_: we definitely advise to use `torchvision.ops.nms` function.\n",
        "\n"
      ]
    },
    {
      "cell_type": "code",
      "metadata": {
        "id": "WWcthFZQquNo"
      },
      "source": [
        "class DigitDetectionModelTarget:\n",
        "\n",
        "    def __init__(\n",
        "        self,\n",
        "        classification_target: torch.Tensor,\n",
        "        box_regression_target: torch.Tensor,\n",
        "        matched_anchors: List[int],\n",
        "    ):\n",
        "        self.classification_target = classification_target\n",
        "        self.box_regression_target = box_regression_target\n",
        "        self.matched_anchors = matched_anchors\n",
        "\n",
        "\n",
        "class TargetDecoder:\n",
        "\n",
        "    def get_targets(\n",
        "        self,\n",
        "        canvas: MnistCanvas,\n",
        "        anchors: List[MnistBox],\n",
        "        iou_threshold: float=0.5,\n",
        "        nb_of_classes: int = 10,\n",
        "    ) -> DigitDetectionModelTarget:\n",
        "        gt_boxes = canvas.boxes\n",
        "\n",
        "        iou_overlaps = [[a.iou_with(gtb) for gtb in gt_boxes] for a in anchors]\n",
        "\n",
        "        best_overlap = [np.argmax(overlaps) for overlaps in iou_overlaps]\n",
        "        best_classes = [gt_boxes[best].class_nb if iou_overlaps[i][best] >= iou_threshold else -1\n",
        "            for best, i in zip (best_overlap, range(len(best_overlap)))]\n",
        "        best_boxes = [gt_boxes[best] if iou_overlaps[i][best] >= iou_threshold else None\n",
        "            for best, i in zip (best_overlap, range(len(best_overlap)))]\n",
        "       \n",
        "        classification_target = torch.tensor([[1 if i == best_class else 0 for i in range(nb_of_classes)] for best_class in best_classes]).to(DEVICE)\n",
        "        box_regression_target = torch.tensor([[0,0,0,0] if gt_best == None else [\n",
        "            gt_best.x_min - anchor.x_min,\n",
        "            gt_best.x_max - anchor.x_max,\n",
        "            gt_best.y_min - anchor.y_min,\n",
        "            gt_best.y_max - anchor.y_max,\n",
        "        ] for anchor, gt_best in zip(anchors, best_boxes)]).to(DEVICE)\n",
        "\n",
        "        matched_anchors = [i for i, bst in zip(range(len(anchors)), best_classes) if bst >= 0]\n",
        "        \n",
        "        return DigitDetectionModelTarget(classification_target, box_regression_target, matched_anchors)\n",
        "\n",
        "    def get_predictions(\n",
        "        self,\n",
        "        model_output: DigitDetectionModelOutput,\n",
        "    ) -> List[MnistBox]:\n",
        "        adjusted_boxes = [MnistBox(\n",
        "            a.x_min + br[0],\n",
        "            a.y_min + br[2],\n",
        "            a.x_max + br[1],\n",
        "            a.y_max + br[3],\n",
        "            clss.argmax().item()\n",
        "        ) for a, br, clss in zip(model_output.anchors, model_output.box_regression_output, model_output.classification_output)]\n",
        "        nms_boxes = torch.tensor([[b.x_min, b.y_min, b.x_max, b.y_max] for b in adjusted_boxes]).to(DEVICE).float()\n",
        "        nms_scores = torch.tensor([max(classes) for classes in model_output.classification_output]).to(DEVICE).float()\n",
        "        nms_iou_treshold = 0.1\n",
        "        new_boxes_ids = torchvision.ops.nms(nms_boxes, nms_scores, nms_iou_treshold)\n",
        "        return [adjusted_boxes[i] for i in new_boxes_ids if nms_scores[i] >= 0.01]"
      ],
      "execution_count": 11,
      "outputs": []
    },
    {
      "cell_type": "code",
      "metadata": {
        "tags": [],
        "id": "ziLFdU5jzufA"
      },
      "source": [
        "model = DigitDetectionModel(3)\n",
        "\n",
        "canvas_id = 420\n",
        "\n",
        "canvas = random_canvases[canvas_id]\n",
        "\n",
        "td = TargetDecoder()\n",
        "targets = td.get_targets(canvas, model.anchors, iou_threshold=0.3)\n",
        "\n",
        "dout = DigitDetectionModelOutput(model.anchors, targets.classification_target, targets.box_regression_target)\n",
        "\n",
        "# not actually predicted, but I used them to simulate predictions\n",
        "predicted_boxes = td.get_predictions(dout)"
      ],
      "execution_count": 13,
      "outputs": []
    },
    {
      "cell_type": "code",
      "metadata": {
        "colab": {
          "base_uri": "https://localhost:8080/",
          "height": 319
        },
        "id": "ghFsDoVjzufB",
        "outputId": "060f1ccd-516f-42f6-d77b-940412be21eb"
      },
      "source": [
        "print(model.anchors[912])\n",
        "print(targets.classification_target[912])\n",
        "print(targets.box_regression_target[912])\n",
        "anchors_to_show = []\n",
        "\n",
        "canvas.plot()"
      ],
      "execution_count": 15,
      "outputs": [
        {
          "output_type": "stream",
          "text": [
            "Mnist Box: x_min = 67.0, x_max = 86.0, y_min = 64.0, y_max = 73.0. Class = None\n",
            "tensor([0, 0, 0, 0, 0, 0, 0, 1, 0, 0])\n",
            "tensor([ 0.,  0., -7., -4.])\n"
          ],
          "name": "stdout"
        },
        {
          "output_type": "display_data",
          "data": {
            "image/png": "[encoded data removed]",
            "text/plain": [
              "<Figure size 432x288 with 1 Axes>"
            ]
          },
          "metadata": {
            "tags": [],
            "needs_background": "light"
          }
        }
      ]
    },
    {
      "cell_type": "code",
      "metadata": {
        "colab": {
          "base_uri": "https://localhost:8080/"
        },
        "id": "yhC8mJNEzufC",
        "outputId": "ceaaad7f-67f7-4790-c995-5679a0e734d8"
      },
      "source": [
        "print(canvas.boxes)"
      ],
      "execution_count": 16,
      "outputs": [
        {
          "output_type": "stream",
          "text": [
            "[Mnist Box: x_min = 25, x_max = 44, y_min = 70, y_max = 75. Class = 1, Mnist Box: x_min = 82, x_max = 95, y_min = 69, y_max = 88. Class = 5, Mnist Box: x_min = 102, x_max = 121, y_min = 65, y_max = 82. Class = 3, Mnist Box: x_min = 67, x_max = 86, y_min = 57, y_max = 69. Class = 7, Mnist Box: x_min = 56, x_max = 75, y_min = 36, y_max = 52. Class = 0, Mnist Box: x_min = 91, x_max = 110, y_min = 29, y_max = 42. Class = 7]\n"
          ],
          "name": "stdout"
        }
      ]
    },
    {
      "cell_type": "code",
      "metadata": {
        "colab": {
          "base_uri": "https://localhost:8080/",
          "height": 268
        },
        "id": "XUXuzFEszufC",
        "outputId": "bd1179e4-0c01-408c-ee5c-59f866a4b000"
      },
      "source": [
        "mc = MnistCanvas(np.zeros((128,128)), predicted_boxes)\n",
        "mc.plot()"
      ],
      "execution_count": 17,
      "outputs": [
        {
          "output_type": "display_data",
          "data": {
            "image/png": "[encoded data removed]",
            "text/plain": [
              "<Figure size 432x288 with 1 Axes>"
            ]
          },
          "metadata": {
            "tags": [],
            "needs_background": "light"
          }
        }
      ]
    },
    {
      "cell_type": "markdown",
      "metadata": {
        "id": "xA1Nvz6jagyP"
      },
      "source": [
        "### Metrics (0.5pt)\n",
        "\n",
        "## Retina Loss\n",
        "As a loss function one should implement the variant of Retina Loss. It should be computed in a following manner:\n",
        "\n",
        "`compute_loss`: \n",
        "\n",
        "This method accepts:\n",
        "- `DigitDetectionModelTarget`,\n",
        "- `DigitDetectionModelOutput`,\n",
        "\n",
        "and computes a loss which is a sum of a:\n",
        "- `torch.nn.SmoothL1Loss` between boxes predictions and targets averaged only over matched anchors,\n",
        "- `torchvision.ops.sigmoid_focal_loss` between classes predictions and targets averaged only over matched anchors.\n",
        "\n",
        "One can either use `torch` default parameters for this losses or try to tune them.\n",
        "\n",
        "If there are no matched anchors - a loss should return `None`. Remember to handle this case separately in your training loop. What does the occurence of this case means about your anchors?\n",
        "\n",
        "## Digit Accuracy\n",
        "\n",
        "This method shoud accept `canvas: MnistCanvas` and `predicted_boxes: List[MnistBox]` obtained using `TargetDecoder.get_predictions` method and output whether there is a direct matching between boxes from `MnistCanvas` and predictions. There is a direct matching if:\n",
        "\n",
        "- for all boxes from `canvas`, there exist precisely one box from `predicted_boxes` with a matching class and `iou` overlap greater than `0.5`,\n",
        "- the number of `canvas` boxes match `len(predicted_boxes)`.\n",
        "\n",
        "The model shoud output `1` if there is a matching and `0` otherwise.\n"
      ]
    },
    {
      "cell_type": "code",
      "metadata": {
        "id": "rffXn9CQwVu4"
      },
      "source": [
        "import torch\n",
        "import torchvision \n",
        "\n",
        "\n",
        "class RetinaLoss:\n",
        "\n",
        "    def compute_loss(\n",
        "        self,\n",
        "        model_output: DigitDetectionModelOutput,\n",
        "        model_target: DigitDetectionModelTarget,\n",
        "    ) -> Optional[torch.Tensor]: \n",
        "        matched_nb = len(model_target.matched_anchors)\n",
        "        if matched_nb == 0:\n",
        "            return None \n",
        "        boxes_criteria = torch.nn.SmoothL1Loss(reduction=\"sum\")\n",
        "        \n",
        "        def classification_criteria(inputs, targets):\n",
        "             return torchvision.ops.sigmoid_focal_loss(inputs, targets, reduction=\"sum\", alpha=0.25, gamma=2)\n",
        "\n",
        "\n",
        "        box_loss = boxes_criteria(\n",
        "            model_output.box_regression_output.float(),\n",
        "            model_target.box_regression_target.float()) / matched_nb\n",
        "        class_loss = classification_criteria(\n",
        "            model_output.classification_output.float(),\n",
        "            model_target.classification_target.float()) / matched_nb\n",
        "\n",
        "        return box_loss + class_loss\n",
        "        \n",
        "\n",
        "class DigitAccuracy:\n",
        "\n",
        "    def compute_metric(\n",
        "        self,\n",
        "        predicted_boxes: List[MnistBox],\n",
        "        canvas: MnistCanvas,\n",
        "        log=False\n",
        "    ):\n",
        "        if len(canvas.boxes) != len(predicted_boxes):\n",
        "            if log:\n",
        "                print(f'PB: {len(predicted_boxes)}, CB: {len(canvas.boxes)}')\n",
        "            return 0\n",
        "        for gt_box in canvas.boxes:\n",
        "            if np.sum([\n",
        "                1 if gt_box.iou_with(pr_box) >= 0.5 and gt_box.class_nb == pr_box.class_nb else 0\n",
        "                for pr_box in predicted_boxes]) != 1:\n",
        "                return 0\n",
        "        return 1\n",
        "    \n",
        "    def compute_weak_metric(\n",
        "        self,\n",
        "        predicted_boxes: List[MnistBox],\n",
        "        canvas: MnistCanvas,\n",
        "    ):\n",
        "        score = 0\n",
        "        for gt_box in canvas.boxes:\n",
        "            box_hit = np.sum([ 1 if gt_box.iou_with(pr_box) >= 0.5 and gt_box.class_nb == pr_box.class_nb else 0 for pr_box in predicted_boxes])\n",
        "            \n",
        "            if box_hit == 1:\n",
        "                score = score + 1\n",
        "        return score / len(canvas.boxes)\n",
        "        \n"
      ],
      "execution_count": 19,
      "outputs": []
    },
    {
      "cell_type": "code",
      "metadata": {
        "id": "15n5w-hhvRbS"
      },
      "source": [
        "### Train your model (1pt)\n",
        "\n",
        "# One should use all classes defined above to train the model.\n",
        "\n",
        "# A passing threshold is `10%` of a `DigitAccuracy` on a `TEST_CANVAS` data.\n",
        "\n",
        "# Plot example results of matched and mismatched predictions (0.5pt).\n",
        "\n",
        "# _Hint:_ note that all classes defined above accept only a single canvas as their inputs. Can we extend a training loop to use it for a training on batches?\n",
        "\n",
        "# Have fun!"
      ],
      "execution_count": 21,
      "outputs": []
    },
    {
      "cell_type": "code",
      "metadata": {
        "id": "KNXjlEhMydhB"
      },
      "source": [
        "import time\n",
        "\n",
        "def train(model, optimizer, max_epochs, train_size, dev_size, pseudo_batch_size=10, iou_threshold=0.3):\n",
        "    round_num = 6\n",
        "\n",
        "    dev_losses = []\n",
        "    dev_accs = []\n",
        "    train_losses = []\n",
        "    train_accs = []\n",
        "\n",
        "    td = TargetDecoder()\n",
        "    rl = RetinaLoss()\n",
        "    da = DigitAccuracy()\n",
        "\n",
        "    for epoch in range(max_epochs):\n",
        "        start = time.perf_counter()\n",
        "        # Training\n",
        "        train_loss = 0\n",
        "        train_correct = 0\n",
        "        weak_correct = 0\n",
        "        model.train()\n",
        "        cumulated_loss = 0\n",
        "        counter = 0\n",
        "        for i in range(train_size):\n",
        "            canvas = get_random_canvas()\n",
        "\n",
        "            prediction = model(canvas)\n",
        "            target = td.get_targets(canvas, model.anchors, iou_threshold)\n",
        "\n",
        "            predicted_boxes = td.get_predictions(prediction)\n",
        "\n",
        "            correct = da.compute_metric(predicted_boxes, canvas)\n",
        "            weak_correct = weak_correct + da.compute_weak_metric(predicted_boxes, canvas)\n",
        "\n",
        "            loss = rl.compute_loss(prediction, target)\n",
        "\n",
        "            if loss == None:\n",
        "                print('LOSS NONE (what does it say about your anchors??)')\n",
        "            else:\n",
        "                cumulated_loss += loss\n",
        "                train_loss = train_loss + loss\n",
        "                counter = counter + 1\n",
        "            \n",
        "            train_correct = train_correct + correct \n",
        "\n",
        "            if i % pseudo_batch_size == 0:\n",
        "                optimizer.zero_grad()\n",
        "                cumulated_loss.backward()\n",
        "                optimizer.step()\n",
        "                cumulated_loss = 0\n",
        "\n",
        "        counter = max(counter, 0.000001)\n",
        "        train_acc = train_correct / counter\n",
        "        train_loss = train_loss / counter\n",
        "        weak_acc = weak_correct / counter\n",
        "        train_losses.append(train_loss.item())\n",
        "        train_accs.append(train_acc)\n",
        "\n",
        "        # Validation\n",
        "        dev_loss = 0\n",
        "        dev_correct = 0\n",
        "        model.eval()\n",
        "        counter = 0\n",
        "        max_class = -10000\n",
        "        with torch.set_grad_enabled(False):\n",
        "            for i in range(dev_size):\n",
        "                canvas = get_random_canvas()\n",
        "\n",
        "                prediction = model(canvas)\n",
        "\n",
        "                max_class = max(max_class, prediction.classification_output.max().item())\n",
        "                target = td.get_targets(canvas, model.anchors, iou_threshold)\n",
        "                predicted_boxes = td.get_predictions(prediction)\n",
        "\n",
        "                correct = da.compute_metric(predicted_boxes, canvas)\n",
        "                loss = rl.compute_loss(prediction, target)\n",
        "                if loss == None:\n",
        "                    print('LOSS NONE (what does it say about your anchors??)')\n",
        "                else:\n",
        "                    dev_loss = dev_loss + loss\n",
        "                    counter = counter + 1\n",
        "                \n",
        "                dev_correct = dev_correct + correct\n",
        "        \n",
        "        counter = max(counter, 0.000001)\n",
        "        dev_acc = dev_correct / counter\n",
        "        dev_loss = dev_loss / counter\n",
        "        dev_losses.append(dev_loss.item())\n",
        "        dev_accs.append(dev_acc)\n",
        "        time_passed = time.perf_counter() - start\n",
        "        mins =  int(time_passed // 60)\n",
        "        sec = time_passed - mins * 60\n",
        "        print('Epoch : ',epoch+1, '\\t',\n",
        "            'train_loss :', round(train_loss.item(), round_num),\n",
        "            'train_acc:', round(train_acc, round_num),\n",
        "            'dev_loss :', round(dev_loss.item(), round_num),\n",
        "            'dev_acc:', round(dev_acc, round_num),\n",
        "            'max_class:', round(max_class, round_num),\n",
        "            'weak_acc:', round(weak_acc, round_num)\n",
        "             )\n",
        "        print('TIME: ', f'{mins}m{round(sec, 2)}')\n",
        "    return dev_losses, dev_accs, train_losses, train_accs"
      ],
      "execution_count": 22,
      "outputs": []
    },
    {
      "cell_type": "code",
      "metadata": {
        "id": "s7E2HsxWzufI"
      },
      "source": [
        "model = DigitDetectionModel(3)\n",
        "# optimizer = torch.optim.Adam(model.parameters())\n",
        "# optimizer = torch.optim.SGD(model.parameters(), lr=0.03, momentum=0.8, dampening=0, nesterov=True)\n",
        "optimizer = torch.optim.SGD(model.parameters(), lr=0.02)\n",
        "\n"
      ],
      "execution_count": 23,
      "outputs": []
    },
    {
      "cell_type": "code",
      "metadata": {
        "tags": [],
        "colab": {
          "base_uri": "https://localhost:8080/"
        },
        "id": "-nLD5PFSzufI",
        "outputId": "e567c5df-1f20-4682-90bd-7e2c0fcc3f12"
      },
      "source": [
        "prm = []\n",
        "for parameter in model.parameters():\n",
        "    prm.append(parameter)\n",
        "print(len(prm))"
      ],
      "execution_count": 24,
      "outputs": [
        {
          "output_type": "stream",
          "text": [
            "20\n"
          ],
          "name": "stdout"
        }
      ]
    },
    {
      "cell_type": "code",
      "metadata": {
        "tags": [],
        "colab": {
          "base_uri": "https://localhost:8080/"
        },
        "id": "bQyt_pbfzufJ",
        "outputId": "69cc79ca-075a-4e54-e5e8-2e3db37c23fe"
      },
      "source": [
        "max_epochs = 50\n",
        "train_size = 500\n",
        "dev_size = 50\n",
        "dev_losses, dev_accs, train_losses, train_accs = train(model, optimizer, max_epochs, train_size, dev_size, pseudo_batch_size=1, iou_threshold=0.3)"
      ],
      "execution_count": 25,
      "outputs": [
        {
          "output_type": "stream",
          "text": [
            "Epoch :  1 \t train_loss : 11.982495 train_acc: 0.0 dev_loss : 8.949903 dev_acc: 0.0 max_class: -0.150689 weak_acc: 0.0\n",
            "TIME:  2m58.22\n",
            "Epoch :  2 \t train_loss : 8.067126 train_acc: 0.0 dev_loss : 8.616905 dev_acc: 0.0 max_class: -0.168504 weak_acc: 0.0\n",
            "TIME:  2m56.93\n",
            "Epoch :  3 \t train_loss : 6.64999 train_acc: 0.0 dev_loss : 5.945323 dev_acc: 0.0 max_class: -0.231803 weak_acc: 0.0\n",
            "TIME:  2m58.25\n",
            "Epoch :  4 \t train_loss : 5.869467 train_acc: 0.0 dev_loss : 5.114465 dev_acc: 0.0 max_class: 0.173925 weak_acc: 0.003067\n",
            "TIME:  2m58.52\n",
            "Epoch :  5 \t train_loss : 5.260433 train_acc: 0.0 dev_loss : 4.782979 dev_acc: 0.0 max_class: 1.071016 weak_acc: 0.038967\n",
            "TIME:  2m58.24\n",
            "Epoch :  6 \t train_loss : 4.839842 train_acc: 0.002 dev_loss : 4.85145 dev_acc: 0.0 max_class: 1.278991 weak_acc: 0.129067\n",
            "TIME:  2m58.8\n",
            "Epoch :  7 \t train_loss : 4.632898 train_acc: 0.004 dev_loss : 4.742006 dev_acc: 0.02 max_class: 1.713015 weak_acc: 0.2165\n",
            "TIME:  2m59.93\n",
            "Epoch :  8 \t train_loss : 4.282095 train_acc: 0.01 dev_loss : 4.056425 dev_acc: 0.02 max_class: 1.33979 weak_acc: 0.2857\n",
            "TIME:  2m58.71\n",
            "Epoch :  9 \t train_loss : 4.099501 train_acc: 0.044 dev_loss : 3.889275 dev_acc: 0.1 max_class: 1.931025 weak_acc: 0.4009\n",
            "TIME:  2m58.31\n",
            "Epoch :  10 \t train_loss : 4.004727 train_acc: 0.04 dev_loss : 4.247464 dev_acc: 0.02 max_class: 1.238537 weak_acc: 0.452433\n",
            "TIME:  2m57.52\n",
            "Epoch :  11 \t train_loss : 3.842791 train_acc: 0.054 dev_loss : 3.50206 dev_acc: 0.08 max_class: 1.728581 weak_acc: 0.4906\n",
            "TIME:  2m59.22\n",
            "Epoch :  12 \t train_loss : 3.661614 train_acc: 0.096 dev_loss : 3.495985 dev_acc: 0.1 max_class: 1.413993 weak_acc: 0.543833\n",
            "TIME:  2m59.29\n",
            "Epoch :  13 \t train_loss : 3.680517 train_acc: 0.104 dev_loss : 3.627018 dev_acc: 0.24 max_class: 2.131371 weak_acc: 0.5887\n",
            "TIME:  3m0.06\n",
            "Epoch :  14 \t train_loss : 3.404897 train_acc: 0.128 dev_loss : 3.046714 dev_acc: 0.28 max_class: 1.86815 weak_acc: 0.617633\n",
            "TIME:  2m59.86\n",
            "Epoch :  15 \t train_loss : 3.296869 train_acc: 0.204 dev_loss : 3.478647 dev_acc: 0.22 max_class: 2.339557 weak_acc: 0.657467\n",
            "TIME:  3m1.08\n",
            "Epoch :  16 \t train_loss : 3.230569 train_acc: 0.21 dev_loss : 3.242372 dev_acc: 0.16 max_class: 1.856364 weak_acc: 0.6706\n",
            "TIME:  2m59.18\n",
            "Epoch :  17 \t train_loss : 3.118701 train_acc: 0.222 dev_loss : 2.94845 dev_acc: 0.24 max_class: 2.354023 weak_acc: 0.6828\n",
            "TIME:  3m0.95\n",
            "Epoch :  18 \t train_loss : 3.130926 train_acc: 0.24 dev_loss : 3.166227 dev_acc: 0.18 max_class: 2.284275 weak_acc: 0.711333\n",
            "TIME:  2m59.08\n",
            "Epoch :  19 \t train_loss : 2.940125 train_acc: 0.262 dev_loss : 2.73555 dev_acc: 0.26 max_class: 2.622747 weak_acc: 0.721567\n",
            "TIME:  3m1.14\n",
            "Epoch :  20 \t train_loss : 2.903941 train_acc: 0.28 dev_loss : 3.690032 dev_acc: 0.24 max_class: 1.967194 weak_acc: 0.732767\n",
            "TIME:  3m0.54\n",
            "Epoch :  21 \t train_loss : 2.856268 train_acc: 0.268 dev_loss : 2.840622 dev_acc: 0.28 max_class: 2.743447 weak_acc: 0.744267\n",
            "TIME:  2m59.25\n",
            "Epoch :  22 \t train_loss : 2.808488 train_acc: 0.302 dev_loss : 2.875082 dev_acc: 0.3 max_class: 2.34914 weak_acc: 0.766667\n",
            "TIME:  3m1.55\n",
            "Epoch :  23 \t train_loss : 2.863348 train_acc: 0.342 dev_loss : 2.952987 dev_acc: 0.44 max_class: 2.451961 weak_acc: 0.771533\n",
            "TIME:  3m0.43\n",
            "Epoch :  24 \t train_loss : 2.754941 train_acc: 0.338 dev_loss : 2.905102 dev_acc: 0.34 max_class: 2.240445 weak_acc: 0.772733\n",
            "TIME:  3m0.6\n",
            "Epoch :  25 \t train_loss : 2.760265 train_acc: 0.38 dev_loss : 2.701263 dev_acc: 0.32 max_class: 2.511405 weak_acc: 0.801233\n",
            "TIME:  2m59.61\n",
            "Epoch :  26 \t train_loss : 2.731874 train_acc: 0.424 dev_loss : 2.491489 dev_acc: 0.38 max_class: 2.745767 weak_acc: 0.8007\n",
            "TIME:  2m59.95\n",
            "Epoch :  27 \t train_loss : 2.66046 train_acc: 0.392 dev_loss : 2.627202 dev_acc: 0.36 max_class: 2.552674 weak_acc: 0.803167\n",
            "TIME:  3m0.7\n",
            "Epoch :  28 \t train_loss : 2.702553 train_acc: 0.4 dev_loss : 2.680191 dev_acc: 0.34 max_class: 2.969655 weak_acc: 0.812167\n",
            "TIME:  3m0.98\n",
            "Epoch :  29 \t train_loss : 2.582206 train_acc: 0.402 dev_loss : 2.349042 dev_acc: 0.4 max_class: 2.363204 weak_acc: 0.810033\n",
            "TIME:  3m1.4\n",
            "Epoch :  30 \t train_loss : 2.50689 train_acc: 0.428 dev_loss : 2.764386 dev_acc: 0.54 max_class: 2.343602 weak_acc: 0.820267\n",
            "TIME:  3m1.67\n",
            "Epoch :  31 \t train_loss : 2.579645 train_acc: 0.438 dev_loss : 2.688752 dev_acc: 0.38 max_class: 2.590569 weak_acc: 0.826167\n",
            "TIME:  3m1.34\n",
            "Epoch :  32 \t train_loss : 2.429716 train_acc: 0.434 dev_loss : 2.50235 dev_acc: 0.48 max_class: 2.879216 weak_acc: 0.827167\n",
            "TIME:  3m1.3\n",
            "Epoch :  33 \t train_loss : 2.414367 train_acc: 0.426 dev_loss : 2.338901 dev_acc: 0.36 max_class: 2.707768 weak_acc: 0.828\n",
            "TIME:  3m0.74\n",
            "Epoch :  34 \t train_loss : 2.357927 train_acc: 0.436 dev_loss : 2.255269 dev_acc: 0.52 max_class: 2.595336 weak_acc: 0.8307\n",
            "TIME:  3m1.66\n",
            "Epoch :  35 \t train_loss : 2.372711 train_acc: 0.472 dev_loss : 2.394795 dev_acc: 0.48 max_class: 2.462463 weak_acc: 0.835033\n",
            "TIME:  3m0.81\n",
            "Epoch :  36 \t train_loss : 2.370565 train_acc: 0.438 dev_loss : 2.217476 dev_acc: 0.54 max_class: 3.017494 weak_acc: 0.833233\n",
            "TIME:  3m1.44\n",
            "Epoch :  37 \t train_loss : 2.327176 train_acc: 0.42 dev_loss : 2.400793 dev_acc: 0.5 max_class: 2.637785 weak_acc: 0.8262\n",
            "TIME:  3m2.15\n",
            "Epoch :  38 \t train_loss : 2.359864 train_acc: 0.456 dev_loss : 2.457439 dev_acc: 0.44 max_class: 2.672431 weak_acc: 0.8424\n",
            "TIME:  3m1.03\n",
            "Epoch :  39 \t train_loss : 2.220608 train_acc: 0.532 dev_loss : 2.181966 dev_acc: 0.48 max_class: 2.99299 weak_acc: 0.858833\n",
            "TIME:  3m0.48\n",
            "Epoch :  40 \t train_loss : 2.236645 train_acc: 0.496 dev_loss : 2.222216 dev_acc: 0.46 max_class: 2.504329 weak_acc: 0.8482\n",
            "TIME:  3m1.09\n",
            "Epoch :  41 \t train_loss : 2.237252 train_acc: 0.498 dev_loss : 1.876631 dev_acc: 0.5 max_class: 3.525351 weak_acc: 0.852433\n",
            "TIME:  3m2.38\n",
            "Epoch :  42 \t train_loss : 2.342786 train_acc: 0.5 dev_loss : 2.555228 dev_acc: 0.64 max_class: 3.201384 weak_acc: 0.8542\n",
            "TIME:  3m0.6\n",
            "Epoch :  43 \t train_loss : 2.330297 train_acc: 0.538 dev_loss : 2.313785 dev_acc: 0.52 max_class: 2.800725 weak_acc: 0.8679\n",
            "TIME:  3m2.48\n",
            "Epoch :  44 \t train_loss : 2.282989 train_acc: 0.52 dev_loss : 2.26349 dev_acc: 0.5 max_class: 2.660136 weak_acc: 0.863633\n",
            "TIME:  3m0.71\n",
            "Epoch :  45 \t train_loss : 2.158373 train_acc: 0.518 dev_loss : 2.2847 dev_acc: 0.58 max_class: 3.152341 weak_acc: 0.854867\n",
            "TIME:  3m1.45\n",
            "Epoch :  46 \t train_loss : 2.262445 train_acc: 0.522 dev_loss : 2.437009 dev_acc: 0.5 max_class: 3.145487 weak_acc: 0.859433\n",
            "TIME:  3m1.56\n",
            "Epoch :  47 \t train_loss : 2.231352 train_acc: 0.538 dev_loss : 2.018306 dev_acc: 0.62 max_class: 2.916358 weak_acc: 0.8637\n",
            "TIME:  2m59.35\n",
            "Epoch :  48 \t train_loss : 2.080248 train_acc: 0.574 dev_loss : 2.088165 dev_acc: 0.58 max_class: 3.227156 weak_acc: 0.875167\n",
            "TIME:  2m59.92\n",
            "Epoch :  49 \t train_loss : 2.128946 train_acc: 0.536 dev_loss : 2.060338 dev_acc: 0.5 max_class: 3.31174 weak_acc: 0.8591\n",
            "TIME:  2m59.76\n",
            "Epoch :  50 \t train_loss : 2.109779 train_acc: 0.558 dev_loss : 2.034374 dev_acc: 0.5 max_class: 3.168901 weak_acc: 0.868567\n",
            "TIME:  2m59.31\n"
          ],
          "name": "stdout"
        }
      ]
    },
    {
      "cell_type": "code",
      "metadata": {
        "colab": {
          "base_uri": "https://localhost:8080/",
          "height": 268
        },
        "id": "NVc1i2VTzufJ",
        "outputId": "ca6d7c8c-dcca-4583-c86a-d7ee6aa9fa89"
      },
      "source": [
        "test_canvas = get_random_canvas()\n",
        "test_canvas.plot()"
      ],
      "execution_count": 26,
      "outputs": [
        {
          "output_type": "display_data",
          "data": {
            "image/png": "[encoded data removed]",
            "text/plain": [
              "<Figure size 432x288 with 1 Axes>"
            ]
          },
          "metadata": {
            "tags": [],
            "needs_background": "light"
          }
        }
      ]
    },
    {
      "cell_type": "code",
      "metadata": {
        "colab": {
          "base_uri": "https://localhost:8080/",
          "height": 268
        },
        "id": "Rd3JbeBJzufK",
        "outputId": "78eb43ab-058d-4821-874a-ef7b3ae1eb4b"
      },
      "source": [
        "res = model(test_canvas)\n",
        "td = TargetDecoder()\n",
        "predicted_boxes = td.get_predictions(res)\n",
        "\n",
        "img = test_canvas.get_torch_tensor().reshape((128, 128)).numpy()\n",
        "\n",
        "pred_canvas = MnistCanvas(img, predicted_boxes)\n",
        "pred_canvas.plot()"
      ],
      "execution_count": 27,
      "outputs": [
        {
          "output_type": "display_data",
          "data": {
            "image/png": "[encoded data removed]",
            "text/plain": [
              "<Figure size 432x288 with 1 Axes>"
            ]
          },
          "metadata": {
            "tags": [],
            "needs_background": "light"
          }
        }
      ]
    },
    {
      "cell_type": "code",
      "metadata": {
        "colab": {
          "base_uri": "https://localhost:8080/",
          "height": 540
        },
        "id": "aOW-QYVDCvpL",
        "outputId": "e709fc09-527d-4a4e-b8da-af84eb96017d"
      },
      "source": [
        "max_loss = max(max(dev_losses), max(train_losses))\n",
        "\n",
        "fig, (ax1, ax2) = plt.subplots(1, 2, figsize=(16, 8))\n",
        "fig.suptitle(f'DIGITS DETECTION ACCURACY AND LOSS', fontsize=24)\n",
        "ax1.plot(dev_accs)\n",
        "ax1.plot(train_accs)\n",
        "ax1.legend(['dev accuracy', 'train accuracy'], fontsize=16)\n",
        "ax1.set_xticks(np.arange(0, max_epochs + 1, max_epochs/10))\n",
        "ax1.set_yticks(np.arange(0, 1.1, 0.1))\n",
        "ax1.grid()\n",
        "\n",
        "ax2.plot(dev_losses)\n",
        "ax2.plot(train_losses)\n",
        "ax2.legend(['dev loss', 'train loss'], fontsize=16)\n",
        "ax2.set_xticks(np.arange(0, max_epochs + 1, max_epochs/10))\n",
        "ax2.set_yticks(np.arange(0, max_loss + 0.01, max_loss/10))\n",
        "ax2.grid()\n",
        "\n",
        "fig.show()"
      ],
      "execution_count": 34,
      "outputs": [
        {
          "output_type": "display_data",
          "data": {
            "image/png": "[encoded data removed]",
            "text/plain": [
              "<Figure size 1152x576 with 2 Axes>"
            ]
          },
          "metadata": {
            "tags": [],
            "needs_background": "light"
          }
        }
      ]
    },
    {
      "cell_type": "code",
      "metadata": {
        "id": "Ix9BayFvildB"
      },
      "source": [
        "torch.save(model.state_dict(), './trained_model')"
      ],
      "execution_count": null,
      "outputs": []
    },
    {
      "cell_type": "code",
      "metadata": {
        "colab": {
          "base_uri": "https://localhost:8080/"
        },
        "id": "5pP3pUJGBBLq",
        "outputId": "17896be3-e630-4729-df11-f027f8051cae"
      },
      "source": [
        "val_loss = 0\n",
        "counter = 0\n",
        "val_correct = 0\n",
        "\n",
        "td = TargetDecoder()\n",
        "rl = RetinaLoss()\n",
        "da = DigitAccuracy()\n",
        "\n",
        "with torch.set_grad_enabled(False):\n",
        "    for canvas in TEST_CANVAS:\n",
        "        # Model computations\n",
        "\n",
        "        prediction = model(canvas)\n",
        "\n",
        "        target = td.get_targets(canvas, model.anchors, iou_threshold=0.3)\n",
        "        predicted_boxes = td.get_predictions(prediction)\n",
        "\n",
        "        correct = da.compute_metric(predicted_boxes, canvas)\n",
        "        loss = rl.compute_loss(prediction, target)\n",
        "        if loss == None:\n",
        "            print('LOSS NONE (what does it say about your anchors??)')\n",
        "        else:\n",
        "            val_loss = val_loss + loss\n",
        "            counter = counter + 1\n",
        "        \n",
        "        val_correct = val_correct + correct\n",
        "\n",
        "counter = max(counter, 0.000001)\n",
        "val_acc = val_correct / counter\n",
        "val_loss = val_loss / counter\n",
        "\n",
        "print('VALIDATION: acc: ', val_acc, 'loss: ', val_loss)"
      ],
      "execution_count": 38,
      "outputs": [
        {
          "output_type": "stream",
          "text": [
            "VALIDATION: acc:  0.40625 loss:  tensor(2.0969)\n"
          ],
          "name": "stdout"
        }
      ]
    }
  ]
}